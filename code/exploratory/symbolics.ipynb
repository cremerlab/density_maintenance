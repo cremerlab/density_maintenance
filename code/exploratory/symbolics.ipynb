{
 "cells": [
  {
   "cell_type": "code",
   "execution_count": 1,
   "metadata": {},
   "outputs": [],
   "source": [
    "import sympy as sp\n"
   ]
  },
  {
   "cell_type": "code",
   "execution_count": 15,
   "metadata": {},
   "outputs": [],
   "source": [
    "alpha = sp.Symbol(r'{{\\alpha}}')\n",
    "w = sp.Symbol('w')\n",
    "ell = alpha * w\n",
    "delta = sp.Symbol('\\delta')\n",
    "\n",
    "vtot = (sp.pi/12) * w**3 * (3 * alpha - 1)\n",
    "vcyt = (sp.pi/12) * (w - 2 * delta)**2 * (3 * (alpha * w - 2 * delta) - (w - 2 * delta))"
   ]
  },
  {
   "cell_type": "code",
   "execution_count": 16,
   "metadata": {},
   "outputs": [],
   "source": [
    "diff = vtot - vcyt"
   ]
  },
  {
   "cell_type": "code",
   "execution_count": 20,
   "metadata": {},
   "outputs": [
    {
     "data": {
      "text/latex": [
       "$\\displaystyle \\frac{\\pi \\delta \\left(4 \\delta^{2} - 3 \\delta w {{\\alpha}} - 3 \\delta w + 3 w^{2} {{\\alpha}}\\right)}{3}$"
      ],
      "text/plain": [
       "pi*\\delta*(4*\\delta**2 - 3*\\delta*w*{{\\alpha}} - 3*\\delta*w + 3*w**2*{{\\alpha}})/3"
      ]
     },
     "execution_count": 20,
     "metadata": {},
     "output_type": "execute_result"
    }
   ],
   "source": [
    "diff.expand().simplify().factor()"
   ]
  },
  {
   "cell_type": "code",
   "execution_count": null,
   "metadata": {},
   "outputs": [],
   "source": []
  }
 ],
 "metadata": {
  "kernelspec": {
   "display_name": "base",
   "language": "python",
   "name": "python3"
  },
  "language_info": {
   "codemirror_mode": {
    "name": "ipython",
    "version": 3
   },
   "file_extension": ".py",
   "mimetype": "text/x-python",
   "name": "python",
   "nbconvert_exporter": "python",
   "pygments_lexer": "ipython3",
   "version": "3.10.9"
  },
  "orig_nbformat": 4
 },
 "nbformat": 4,
 "nbformat_minor": 2
}
