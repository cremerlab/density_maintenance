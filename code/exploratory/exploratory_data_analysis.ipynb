{
 "cells": [
  {
   "attachments": {},
   "cell_type": "markdown",
   "metadata": {},
   "source": [
    "# Exploratory Data Analysis (of Everything)"
   ]
  },
  {
   "cell_type": "code",
   "execution_count": 23,
   "metadata": {},
   "outputs": [],
   "source": [
    "import numpy as np \n",
    "import pandas as pd \n",
    "import matplotlib.pyplot as plt\n",
    "import scipy.stats \n",
    "import size.viz\n",
    "import size.analytical\n",
    "import seaborn as sns\n",
    "carbons = ['acetate', 'sorbitol', 'glycerol', 'glucose', 'glucoseCAA', 'RDM', 'ezMOPS', 'LB']\n",
    "cmap = sns.color_palette(\"ch:start=.2,rot=-.3\", n_colors=len(carbons)).as_hex()\n",
    "carb_colors = {c:k for c, k in zip(carbons, cmap)}\n",
    "cor, pal = size.viz.matplotlib_style()"
   ]
  },
  {
   "cell_type": "code",
   "execution_count": 41,
   "metadata": {},
   "outputs": [
    {
     "ename": "ValueError",
     "evalue": "no results",
     "output_type": "error",
     "traceback": [
      "\u001b[0;31m---------------------------------------------------------------------------\u001b[0m",
      "\u001b[0;31mValueError\u001b[0m                                Traceback (most recent call last)",
      "Cell \u001b[0;32mIn [41], line 4\u001b[0m\n\u001b[1;32m      2\u001b[0m sizes \u001b[39m=\u001b[39m pd\u001b[39m.\u001b[39mread_csv(\u001b[39m'\u001b[39m\u001b[39m../../data/summaries/summarized_size_measurements.csv\u001b[39m\u001b[39m'\u001b[39m)\n\u001b[1;32m      3\u001b[0m sizes\u001b[39m.\u001b[39mdropna(inplace\u001b[39m=\u001b[39m\u001b[39mTrue\u001b[39;00m)\n\u001b[0;32m----> 4\u001b[0m sizes_agg \u001b[39m=\u001b[39m sizes\u001b[39m.\u001b[39;49mgroupby([\u001b[39m'\u001b[39;49m\u001b[39mstrain\u001b[39;49m\u001b[39m'\u001b[39;49m, \u001b[39m'\u001b[39;49m\u001b[39mcarbon_source\u001b[39;49m\u001b[39m'\u001b[39;49m, \u001b[39m'\u001b[39;49m\u001b[39minducer\u001b[39;49m\u001b[39m'\u001b[39;49m, \u001b[39m'\u001b[39;49m\u001b[39minducer_conc\u001b[39;49m\u001b[39m'\u001b[39;49m, \n\u001b[1;32m      5\u001b[0m                    \u001b[39m'\u001b[39;49m\u001b[39mtemperature_C\u001b[39;49m\u001b[39m'\u001b[39;49m])[\n\u001b[1;32m      6\u001b[0m                 [\u001b[39m'\u001b[39;49m\u001b[39mwidth_median\u001b[39;49m\u001b[39m'\u001b[39;49m, \u001b[39m'\u001b[39;49m\u001b[39mlength\u001b[39;49m\u001b[39m'\u001b[39;49m]]\u001b[39m.\u001b[39;49magg((\u001b[39m'\u001b[39;49m\u001b[39mmean\u001b[39;49m\u001b[39m'\u001b[39;49m, \u001b[39m'\u001b[39;49m\u001b[39msem\u001b[39;49m\u001b[39m'\u001b[39;49m))\u001b[39m.\u001b[39mreset_index()\n\u001b[1;32m      7\u001b[0m growth_rates \u001b[39m=\u001b[39m pd\u001b[39m.\u001b[39mread_csv(\u001b[39m'\u001b[39m\u001b[39m../../data/summaries/summarized_growth_measurements.csv\u001b[39m\u001b[39m'\u001b[39m)\n\u001b[1;32m      8\u001b[0m growth_rates_agg \u001b[39m=\u001b[39m growth_rates\u001b[39m.\u001b[39mgroupby([\u001b[39m'\u001b[39m\u001b[39mstrain\u001b[39m\u001b[39m'\u001b[39m, \u001b[39m'\u001b[39m\u001b[39mcarbon_source\u001b[39m\u001b[39m'\u001b[39m]\n\u001b[1;32m      9\u001b[0m                           )[\u001b[39m'\u001b[39m\u001b[39mgrowth_rate_hr\u001b[39m\u001b[39m'\u001b[39m]\u001b[39m.\u001b[39magg((\u001b[39m'\u001b[39m\u001b[39mmean\u001b[39m\u001b[39m'\u001b[39m, \u001b[39m'\u001b[39m\u001b[39msem\u001b[39m\u001b[39m'\u001b[39m))\u001b[39m.\u001b[39mreset_index()\n",
      "File \u001b[0;32m~/opt/anaconda3/lib/python3.8/site-packages/pandas/core/groupby/generic.py:869\u001b[0m, in \u001b[0;36mDataFrameGroupBy.aggregate\u001b[0;34m(self, func, engine, engine_kwargs, *args, **kwargs)\u001b[0m\n\u001b[1;32m    866\u001b[0m func \u001b[39m=\u001b[39m maybe_mangle_lambdas(func)\n\u001b[1;32m    868\u001b[0m op \u001b[39m=\u001b[39m GroupByApply(\u001b[39mself\u001b[39m, func, args, kwargs)\n\u001b[0;32m--> 869\u001b[0m result \u001b[39m=\u001b[39m op\u001b[39m.\u001b[39;49magg()\n\u001b[1;32m    870\u001b[0m \u001b[39mif\u001b[39;00m \u001b[39mnot\u001b[39;00m is_dict_like(func) \u001b[39mand\u001b[39;00m result \u001b[39mis\u001b[39;00m \u001b[39mnot\u001b[39;00m \u001b[39mNone\u001b[39;00m:\n\u001b[1;32m    871\u001b[0m     \u001b[39mreturn\u001b[39;00m result\n",
      "File \u001b[0;32m~/opt/anaconda3/lib/python3.8/site-packages/pandas/core/apply.py:171\u001b[0m, in \u001b[0;36mApply.agg\u001b[0;34m(self)\u001b[0m\n\u001b[1;32m    168\u001b[0m     \u001b[39mreturn\u001b[39;00m \u001b[39mself\u001b[39m\u001b[39m.\u001b[39magg_dict_like()\n\u001b[1;32m    169\u001b[0m \u001b[39melif\u001b[39;00m is_list_like(arg):\n\u001b[1;32m    170\u001b[0m     \u001b[39m# we require a list, but not a 'str'\u001b[39;00m\n\u001b[0;32m--> 171\u001b[0m     \u001b[39mreturn\u001b[39;00m \u001b[39mself\u001b[39;49m\u001b[39m.\u001b[39;49magg_list_like()\n\u001b[1;32m    173\u001b[0m \u001b[39mif\u001b[39;00m callable(arg):\n\u001b[1;32m    174\u001b[0m     f \u001b[39m=\u001b[39m com\u001b[39m.\u001b[39mget_cython_func(arg)\n",
      "File \u001b[0;32m~/opt/anaconda3/lib/python3.8/site-packages/pandas/core/apply.py:415\u001b[0m, in \u001b[0;36mApply.agg_list_like\u001b[0;34m(self)\u001b[0m\n\u001b[1;32m    413\u001b[0m \u001b[39m# if we are empty\u001b[39;00m\n\u001b[1;32m    414\u001b[0m \u001b[39mif\u001b[39;00m \u001b[39mnot\u001b[39;00m \u001b[39mlen\u001b[39m(results):\n\u001b[0;32m--> 415\u001b[0m     \u001b[39mraise\u001b[39;00m \u001b[39mValueError\u001b[39;00m(\u001b[39m\"\u001b[39m\u001b[39mno results\u001b[39m\u001b[39m\"\u001b[39m)\n\u001b[1;32m    417\u001b[0m \u001b[39mif\u001b[39;00m \u001b[39mlen\u001b[39m(failed_names) \u001b[39m>\u001b[39m \u001b[39m0\u001b[39m:\n\u001b[1;32m    418\u001b[0m     warnings\u001b[39m.\u001b[39mwarn(\n\u001b[1;32m    419\u001b[0m         depr_nuisance_columns_msg\u001b[39m.\u001b[39mformat(failed_names),\n\u001b[1;32m    420\u001b[0m         \u001b[39mFutureWarning\u001b[39;00m,\n\u001b[1;32m    421\u001b[0m         stacklevel\u001b[39m=\u001b[39mfind_stack_level(),\n\u001b[1;32m    422\u001b[0m     )\n",
      "\u001b[0;31mValueError\u001b[0m: no results"
     ]
    }
   ],
   "source": [
    "# Load the various datasets \n",
    "sizes = pd.read_csv('../../data/summaries/summarized_size_measurements.csv')\n",
    "sizes.dropna(inplace=True)\n",
    "sizes_agg = sizes.groupby(['strain', 'carbon_source', 'inducer', 'inducer_conc', \n",
    "                   'temperature_C'])[\n",
    "                ['width_median', 'length']].agg(('mean', 'sem')).reset_index()\n",
    "growth_rates = pd.read_csv('../../data/summaries/summarized_growth_measurements.csv')\n",
    "growth_rates_agg = growth_rates.groupby(['strain', 'carbon_source']\n",
    "                          )['growth_rate_hr'].agg(('mean', 'sem')).reset_index()\n",
    "cell_counts = pd.read_csv('../../data/summaries/flow_cytometry_counts.csv')\n",
    "cell_counts_agg = cell_counts.groupby(['strain', 'carbon_source', 'overexpression', \n",
    "                                       'inducer', 'inducer_conc', 'date']\n",
    "                                       )['cells_per_biomass'].agg(\n",
    "                                        ('mean')).reset_index()\n",
    "cell_counts_errs = cell_counts_agg.groupby(['strain', 'carbon_source']\n",
    "                       )['cells_per_biomass'].agg(('mean', 'sem')).reset_index()\n",
    "protein = pd.read_csv('../../data/summaries/summarized_protein_measurements.csv')\n",
    "protein_agg = protein.groupby(['strain', 'carbon_source', 'overexpression', \n",
    "                               'inducer', 'inducer_conc_ng_ml']\n",
    "                     )['prot_ug_per_biomass'].agg(('mean', 'sem')).reset_index()"
   ]
  },
  {
   "cell_type": "code",
   "execution_count": 43,
   "metadata": {},
   "outputs": [
    {
     "data": {
      "text/plain": [
       "<module 'size' from '/Users/gchure/Dropbox/git/postdoc_projects/size_control/software/size/__init__.py'>"
      ]
     },
     "execution_count": 43,
     "metadata": {},
     "output_type": "execute_result"
    }
   ],
   "source": [
    "size"
   ]
  },
  {
   "attachments": {},
   "cell_type": "markdown",
   "metadata": {},
   "source": [
    "## Exploring Replicate Variability"
   ]
  },
  {
   "cell_type": "code",
   "execution_count": 20,
   "metadata": {},
   "outputs": [
    {
     "data": {
      "text/plain": [
       "array(['glucose', 'acetate', 'glycerol', 'glucoseCAA', 'sorbitol'],\n",
       "      dtype=object)"
      ]
     },
     "execution_count": 20,
     "metadata": {},
     "output_type": "execute_result"
    }
   ],
   "source": []
  },
  {
   "cell_type": "code",
   "execution_count": 22,
   "metadata": {},
   "outputs": [
    {
     "data": {
      "text/plain": [
       "array(['glucoseCAA', 'glucose', 'glycerol', 'LB', 'acetate', 'sorbitol',\n",
       "       'ezMOPS', 'RDM'], dtype=object)"
      ]
     },
     "execution_count": 22,
     "metadata": {},
     "output_type": "execute_result"
    }
   ],
   "source": [
    "sizes.carbon_source.unique()"
   ]
  },
  {
   "attachments": {},
   "cell_type": "markdown",
   "metadata": {},
   "source": [
    "## Exploring Growth Rate Dependence"
   ]
  },
  {
   "attachments": {},
   "cell_type": "markdown",
   "metadata": {},
   "source": [
    "### Size Trends"
   ]
  },
  {
   "cell_type": "code",
   "execution_count": null,
   "metadata": {},
   "outputs": [],
   "source": [
    "fig, ax = plt.subplots(1, 2, figsize=(6, 4))\n",
    "for a in ax:\n",
    "    a.set_xlabel('growth rate [hr$^{-1}$]')\n",
    "\n",
    "for g, d in sizes_agg"
   ]
  }
 ],
 "metadata": {
  "kernelspec": {
   "display_name": "base",
   "language": "python",
   "name": "python3"
  },
  "language_info": {
   "codemirror_mode": {
    "name": "ipython",
    "version": 3
   },
   "file_extension": ".py",
   "mimetype": "text/x-python",
   "name": "python",
   "nbconvert_exporter": "python",
   "pygments_lexer": "ipython3",
   "version": "3.8.12"
  },
  "orig_nbformat": 4,
  "vscode": {
   "interpreter": {
    "hash": "3c564ef7d7bc2191162644f217262f5516438042a09a12c52b9a7e4611a084e2"
   }
  }
 },
 "nbformat": 4,
 "nbformat_minor": 2
}
