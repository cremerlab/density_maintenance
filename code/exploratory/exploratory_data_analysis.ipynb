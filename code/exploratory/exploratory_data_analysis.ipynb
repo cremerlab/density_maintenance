{
 "cells": [
  {
   "attachments": {},
   "cell_type": "markdown",
   "metadata": {},
   "source": [
    "# Exploratory Data Analysis (of Everything)"
   ]
  },
  {
   "cell_type": "code",
   "execution_count": 1,
   "metadata": {},
   "outputs": [],
   "source": [
    "import numpy as np \n",
    "import pandas as pd \n",
    "import matplotlib.pyplot as plt\n",
    "import scipy.stats \n",
    "import size.viz\n",
    "import size.analytical\n",
    "cor, pal = size.viz.matplotlib_style()"
   ]
  },
  {
   "cell_type": "code",
   "execution_count": 7,
   "metadata": {},
   "outputs": [],
   "source": [
    "# Load the various datasets \n",
    "sizes = pd.read_csv('../../data/summaries/summarized_size_measurements.csv')\n",
    "sizes.dropna(inplace=True)\n",
    "growth_rates = pd.read_csv('../../data/summaries/summarized_growth_measurements.csv')\n",
    "cell_counts = pd.read_csv('../../data/summaries/flow_cytometry_counts.csv')\n",
    "protein = pd.read_csv('../../data/summaries/summarized_protein_measurements.csv')"
   ]
  },
  {
   "attachments": {},
   "cell_type": "markdown",
   "metadata": {},
   "source": [
    "## Exploring Replicate Variability"
   ]
  },
  {
   "cell_type": "code",
   "execution_count": null,
   "metadata": {},
   "outputs": [],
   "source": []
  },
  {
   "attachments": {},
   "cell_type": "markdown",
   "metadata": {},
   "source": [
    "## Exploring Growth Rate Dependence"
   ]
  },
  {
   "cell_type": "code",
   "execution_count": null,
   "metadata": {},
   "outputs": [],
   "source": []
  }
 ],
 "metadata": {
  "kernelspec": {
   "display_name": "base",
   "language": "python",
   "name": "python3"
  },
  "language_info": {
   "codemirror_mode": {
    "name": "ipython",
    "version": 3
   },
   "file_extension": ".py",
   "mimetype": "text/x-python",
   "name": "python",
   "nbconvert_exporter": "python",
   "pygments_lexer": "ipython3",
   "version": "3.8.12"
  },
  "orig_nbformat": 4,
  "vscode": {
   "interpreter": {
    "hash": "3c564ef7d7bc2191162644f217262f5516438042a09a12c52b9a7e4611a084e2"
   }
  }
 },
 "nbformat": 4,
 "nbformat_minor": 2
}
