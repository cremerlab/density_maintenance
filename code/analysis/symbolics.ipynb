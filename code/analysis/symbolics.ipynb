{
 "cells": [
  {
   "cell_type": "code",
   "execution_count": 1,
   "metadata": {},
   "outputs": [],
   "source": [
    "import sympy as sp"
   ]
  },
  {
   "cell_type": "code",
   "execution_count": 16,
   "metadata": {},
   "outputs": [
    {
     "data": {
      "text/latex": [
       "$\\displaystyle \\frac{{{\\alpha}}}{{{\\omega}}} + \\frac{4 {{\\delta}}^{2}}{{{\\omega}}^{3}} + \\frac{2 {{\\delta}} \\left({{\\alpha}} + 1\\right)}{{{\\omega}}^{2}}$"
      ],
      "text/plain": [
       "{{\\alpha}}/{{\\omega}} + 4*{{\\delta}}**2/{{\\omega}}**3 + 2*{{\\delta}}*({{\\alpha}} + 1)/{{\\omega}}**2"
      ]
     },
     "execution_count": 16,
     "metadata": {},
     "output_type": "execute_result"
    }
   ],
   "source": [
    "w = sp.Symbol('{{\\omega}}')\n",
    "# ell = sp.Symbol('{{\\ell}}')\n",
    "# ell = 4 * w\n",
    "alpha = sp.Symbol(r'{{\\alpha}}')\n",
    "delta = sp.Symbol('{{\\delta}}')\n",
    "k = sp.Symbol('k')\n",
    "phi_peri = sp.Symbol('{{\\phi_{peri}}}')\n",
    "Theta = (1 - phi_peri) * k * delta * (3 * alpha - 1) / (12 * phi_peri)\n",
    "rhs = (alpha / w) + (2 * delta * (alpha + 1)/w**2) + (4 * delta**2 / w**3)"
   ]
  },
  {
   "cell_type": "code",
   "execution_count": 17,
   "metadata": {},
   "outputs": [],
   "source": [
    "out = sp.solve(rhs - theta, w)"
   ]
  },
  {
   "cell_type": "code",
   "execution_count": 18,
   "metadata": {},
   "outputs": [
    {
     "data": {
      "text/latex": [
       "$\\displaystyle - \\frac{k {{\\alpha}} {{\\delta}} {{\\phi_{peri}}} \\sqrt[3]{\\frac{k^{3} {{\\alpha}}^{3} {{\\delta}}^{3} {{\\phi_{peri}}}^{3} - 9 k^{2} {{\\alpha}} {{\\delta}}^{3} {{\\phi_{peri}}}^{2} \\left({{\\alpha}} + 1\\right) \\left({{\\phi_{peri}}} - 1\\right) + 54 k {{\\delta}}^{3} {{\\phi_{peri}}} \\left({{\\phi_{peri}}} - 1\\right)^{2} + \\sqrt{- \\frac{k^{2} {{\\delta}}^{6} {{\\phi_{peri}}}^{2} \\left(k {{\\phi_{peri}}} \\left(k {{\\alpha}}^{2} {{\\phi_{peri}}} - 6 \\left({{\\alpha}} + 1\\right) \\left({{\\phi_{peri}}} - 1\\right)\\right)^{3} - \\left(k^{2} {{\\alpha}}^{3} {{\\phi_{peri}}}^{2} - 9 k {{\\alpha}} {{\\phi_{peri}}} \\left({{\\alpha}} + 1\\right) \\left({{\\phi_{peri}}} - 1\\right) + 54 \\left({{\\phi_{peri}}} - 1\\right)^{2}\\right)^{2}\\right)}{\\left({{\\phi_{peri}}} - 1\\right)^{6}}} \\left({{\\phi_{peri}}} - 1\\right)^{3}}{\\left({{\\phi_{peri}}} - 1\\right)^{3}}} \\left({{\\phi_{peri}}} - 1\\right) + k {{\\delta}}^{2} {{\\phi_{peri}}} \\left(k {{\\alpha}}^{2} {{\\phi_{peri}}} - 6 \\left({{\\alpha}} + 1\\right) \\left({{\\phi_{peri}}} - 1\\right)\\right) + \\left(\\frac{k^{3} {{\\alpha}}^{3} {{\\delta}}^{3} {{\\phi_{peri}}}^{3} - 9 k^{2} {{\\alpha}} {{\\delta}}^{3} {{\\phi_{peri}}}^{2} \\left({{\\alpha}} + 1\\right) \\left({{\\phi_{peri}}} - 1\\right) + 54 k {{\\delta}}^{3} {{\\phi_{peri}}} \\left({{\\phi_{peri}}} - 1\\right)^{2} + \\sqrt{- \\frac{k^{2} {{\\delta}}^{6} {{\\phi_{peri}}}^{2} \\left(k {{\\phi_{peri}}} \\left(k {{\\alpha}}^{2} {{\\phi_{peri}}} - 6 \\left({{\\alpha}} + 1\\right) \\left({{\\phi_{peri}}} - 1\\right)\\right)^{3} - \\left(k^{2} {{\\alpha}}^{3} {{\\phi_{peri}}}^{2} - 9 k {{\\alpha}} {{\\phi_{peri}}} \\left({{\\alpha}} + 1\\right) \\left({{\\phi_{peri}}} - 1\\right) + 54 \\left({{\\phi_{peri}}} - 1\\right)^{2}\\right)^{2}\\right)}{\\left({{\\phi_{peri}}} - 1\\right)^{6}}} \\left({{\\phi_{peri}}} - 1\\right)^{3}}{\\left({{\\phi_{peri}}} - 1\\right)^{3}}\\right)^{\\frac{2}{3}} \\left({{\\phi_{peri}}} - 1\\right)^{2}}{3 \\sqrt[3]{\\frac{k^{3} {{\\alpha}}^{3} {{\\delta}}^{3} {{\\phi_{peri}}}^{3} - 9 k^{2} {{\\alpha}} {{\\delta}}^{3} {{\\phi_{peri}}}^{2} \\left({{\\alpha}} + 1\\right) \\left({{\\phi_{peri}}} - 1\\right) + 54 k {{\\delta}}^{3} {{\\phi_{peri}}} \\left({{\\phi_{peri}}} - 1\\right)^{2} + \\sqrt{- \\frac{k^{2} {{\\delta}}^{6} {{\\phi_{peri}}}^{2} \\left(k {{\\phi_{peri}}} \\left(k {{\\alpha}}^{2} {{\\phi_{peri}}} - 6 \\left({{\\alpha}} + 1\\right) \\left({{\\phi_{peri}}} - 1\\right)\\right)^{3} - \\left(k^{2} {{\\alpha}}^{3} {{\\phi_{peri}}}^{2} - 9 k {{\\alpha}} {{\\phi_{peri}}} \\left({{\\alpha}} + 1\\right) \\left({{\\phi_{peri}}} - 1\\right) + 54 \\left({{\\phi_{peri}}} - 1\\right)^{2}\\right)^{2}\\right)}{\\left({{\\phi_{peri}}} - 1\\right)^{6}}} \\left({{\\phi_{peri}}} - 1\\right)^{3}}{\\left({{\\phi_{peri}}} - 1\\right)^{3}}} \\left({{\\phi_{peri}}} - 1\\right)^{2}}$"
      ],
      "text/plain": [
       "-(k*{{\\alpha}}*{{\\delta}}*{{\\phi_{peri}}}*((k**3*{{\\alpha}}**3*{{\\delta}}**3*{{\\phi_{peri}}}**3 - 9*k**2*{{\\alpha}}*{{\\delta}}**3*{{\\phi_{peri}}}**2*({{\\alpha}} + 1)*({{\\phi_{peri}}} - 1) + 54*k*{{\\delta}}**3*{{\\phi_{peri}}}*({{\\phi_{peri}}} - 1)**2 + sqrt(-k**2*{{\\delta}}**6*{{\\phi_{peri}}}**2*(k*{{\\phi_{peri}}}*(k*{{\\alpha}}**2*{{\\phi_{peri}}} - 6*({{\\alpha}} + 1)*({{\\phi_{peri}}} - 1))**3 - (k**2*{{\\alpha}}**3*{{\\phi_{peri}}}**2 - 9*k*{{\\alpha}}*{{\\phi_{peri}}}*({{\\alpha}} + 1)*({{\\phi_{peri}}} - 1) + 54*({{\\phi_{peri}}} - 1)**2)**2)/({{\\phi_{peri}}} - 1)**6)*({{\\phi_{peri}}} - 1)**3)/({{\\phi_{peri}}} - 1)**3)**(1/3)*({{\\phi_{peri}}} - 1) + k*{{\\delta}}**2*{{\\phi_{peri}}}*(k*{{\\alpha}}**2*{{\\phi_{peri}}} - 6*({{\\alpha}} + 1)*({{\\phi_{peri}}} - 1)) + ((k**3*{{\\alpha}}**3*{{\\delta}}**3*{{\\phi_{peri}}}**3 - 9*k**2*{{\\alpha}}*{{\\delta}}**3*{{\\phi_{peri}}}**2*({{\\alpha}} + 1)*({{\\phi_{peri}}} - 1) + 54*k*{{\\delta}}**3*{{\\phi_{peri}}}*({{\\phi_{peri}}} - 1)**2 + sqrt(-k**2*{{\\delta}}**6*{{\\phi_{peri}}}**2*(k*{{\\phi_{peri}}}*(k*{{\\alpha}}**2*{{\\phi_{peri}}} - 6*({{\\alpha}} + 1)*({{\\phi_{peri}}} - 1))**3 - (k**2*{{\\alpha}}**3*{{\\phi_{peri}}}**2 - 9*k*{{\\alpha}}*{{\\phi_{peri}}}*({{\\alpha}} + 1)*({{\\phi_{peri}}} - 1) + 54*({{\\phi_{peri}}} - 1)**2)**2)/({{\\phi_{peri}}} - 1)**6)*({{\\phi_{peri}}} - 1)**3)/({{\\phi_{peri}}} - 1)**3)**(2/3)*({{\\phi_{peri}}} - 1)**2)/(3*((k**3*{{\\alpha}}**3*{{\\delta}}**3*{{\\phi_{peri}}}**3 - 9*k**2*{{\\alpha}}*{{\\delta}}**3*{{\\phi_{peri}}}**2*({{\\alpha}} + 1)*({{\\phi_{peri}}} - 1) + 54*k*{{\\delta}}**3*{{\\phi_{peri}}}*({{\\phi_{peri}}} - 1)**2 + sqrt(-k**2*{{\\delta}}**6*{{\\phi_{peri}}}**2*(k*{{\\phi_{peri}}}*(k*{{\\alpha}}**2*{{\\phi_{peri}}} - 6*({{\\alpha}} + 1)*({{\\phi_{peri}}} - 1))**3 - (k**2*{{\\alpha}}**3*{{\\phi_{peri}}}**2 - 9*k*{{\\alpha}}*{{\\phi_{peri}}}*({{\\alpha}} + 1)*({{\\phi_{peri}}} - 1) + 54*({{\\phi_{peri}}} - 1)**2)**2)/({{\\phi_{peri}}} - 1)**6)*({{\\phi_{peri}}} - 1)**3)/({{\\phi_{peri}}} - 1)**3)**(1/3)*({{\\phi_{peri}}} - 1)**2)"
      ]
     },
     "execution_count": 18,
     "metadata": {},
     "output_type": "execute_result"
    }
   ],
   "source": [
    "out[0].simplify()"
   ]
  },
  {
   "cell_type": "code",
   "execution_count": 26,
   "metadata": {},
   "outputs": [
    {
     "data": {
      "text/latex": [
       "$\\displaystyle - \\frac{k {{\\alpha}} {{\\delta}} {{\\phi_{peri}}} \\sqrt[3]{\\frac{k^{3} {{\\alpha}}^{3} {{\\delta}}^{3} {{\\phi_{peri}}}^{3} - 9 k^{2} {{\\alpha}} {{\\delta}}^{3} {{\\phi_{peri}}}^{2} \\left({{\\alpha}} + 1\\right) \\left({{\\phi_{peri}}} - 1\\right) + 54 k {{\\delta}}^{3} {{\\phi_{peri}}} \\left({{\\phi_{peri}}} - 1\\right)^{2} + \\sqrt{- \\frac{k^{2} {{\\delta}}^{6} {{\\phi_{peri}}}^{2} \\left(k {{\\phi_{peri}}} \\left(k {{\\alpha}}^{2} {{\\phi_{peri}}} - 6 \\left({{\\alpha}} + 1\\right) \\left({{\\phi_{peri}}} - 1\\right)\\right)^{3} - \\left(k^{2} {{\\alpha}}^{3} {{\\phi_{peri}}}^{2} - 9 k {{\\alpha}} {{\\phi_{peri}}} \\left({{\\alpha}} + 1\\right) \\left({{\\phi_{peri}}} - 1\\right) + 54 \\left({{\\phi_{peri}}} - 1\\right)^{2}\\right)^{2}\\right)}{\\left({{\\phi_{peri}}} - 1\\right)^{6}}} \\left({{\\phi_{peri}}} - 1\\right)^{3}}{\\left({{\\phi_{peri}}} - 1\\right)^{3}}} \\left({{\\phi_{peri}}} - 1\\right) + k {{\\delta}}^{2} {{\\phi_{peri}}} \\left(k {{\\alpha}}^{2} {{\\phi_{peri}}} - 6 \\left({{\\alpha}} + 1\\right) \\left({{\\phi_{peri}}} - 1\\right)\\right) + \\left(\\frac{k^{3} {{\\alpha}}^{3} {{\\delta}}^{3} {{\\phi_{peri}}}^{3} - 9 k^{2} {{\\alpha}} {{\\delta}}^{3} {{\\phi_{peri}}}^{2} \\left({{\\alpha}} + 1\\right) \\left({{\\phi_{peri}}} - 1\\right) + 54 k {{\\delta}}^{3} {{\\phi_{peri}}} \\left({{\\phi_{peri}}} - 1\\right)^{2} + \\sqrt{- \\frac{k^{2} {{\\delta}}^{6} {{\\phi_{peri}}}^{2} \\left(k {{\\phi_{peri}}} \\left(k {{\\alpha}}^{2} {{\\phi_{peri}}} - 6 \\left({{\\alpha}} + 1\\right) \\left({{\\phi_{peri}}} - 1\\right)\\right)^{3} - \\left(k^{2} {{\\alpha}}^{3} {{\\phi_{peri}}}^{2} - 9 k {{\\alpha}} {{\\phi_{peri}}} \\left({{\\alpha}} + 1\\right) \\left({{\\phi_{peri}}} - 1\\right) + 54 \\left({{\\phi_{peri}}} - 1\\right)^{2}\\right)^{2}\\right)}{\\left({{\\phi_{peri}}} - 1\\right)^{6}}} \\left({{\\phi_{peri}}} - 1\\right)^{3}}{\\left({{\\phi_{peri}}} - 1\\right)^{3}}\\right)^{\\frac{2}{3}} \\left({{\\phi_{peri}}} - 1\\right)^{2}}{3 \\sqrt[3]{\\frac{k^{3} {{\\alpha}}^{3} {{\\delta}}^{3} {{\\phi_{peri}}}^{3} - 9 k^{2} {{\\alpha}} {{\\delta}}^{3} {{\\phi_{peri}}}^{2} \\left({{\\alpha}} + 1\\right) \\left({{\\phi_{peri}}} - 1\\right) + 54 k {{\\delta}}^{3} {{\\phi_{peri}}} \\left({{\\phi_{peri}}} - 1\\right)^{2} + \\sqrt{- \\frac{k^{2} {{\\delta}}^{6} {{\\phi_{peri}}}^{2} \\left(k {{\\phi_{peri}}} \\left(k {{\\alpha}}^{2} {{\\phi_{peri}}} - 6 \\left({{\\alpha}} + 1\\right) \\left({{\\phi_{peri}}} - 1\\right)\\right)^{3} - \\left(k^{2} {{\\alpha}}^{3} {{\\phi_{peri}}}^{2} - 9 k {{\\alpha}} {{\\phi_{peri}}} \\left({{\\alpha}} + 1\\right) \\left({{\\phi_{peri}}} - 1\\right) + 54 \\left({{\\phi_{peri}}} - 1\\right)^{2}\\right)^{2}\\right)}{\\left({{\\phi_{peri}}} - 1\\right)^{6}}} \\left({{\\phi_{peri}}} - 1\\right)^{3}}{\\left({{\\phi_{peri}}} - 1\\right)^{3}}} \\left({{\\phi_{peri}}} - 1\\right)^{2}}$"
      ],
      "text/plain": [
       "-(k*{{\\alpha}}*{{\\delta}}*{{\\phi_{peri}}}*((k**3*{{\\alpha}}**3*{{\\delta}}**3*{{\\phi_{peri}}}**3 - 9*k**2*{{\\alpha}}*{{\\delta}}**3*{{\\phi_{peri}}}**2*({{\\alpha}} + 1)*({{\\phi_{peri}}} - 1) + 54*k*{{\\delta}}**3*{{\\phi_{peri}}}*({{\\phi_{peri}}} - 1)**2 + sqrt(-k**2*{{\\delta}}**6*{{\\phi_{peri}}}**2*(k*{{\\phi_{peri}}}*(k*{{\\alpha}}**2*{{\\phi_{peri}}} - 6*({{\\alpha}} + 1)*({{\\phi_{peri}}} - 1))**3 - (k**2*{{\\alpha}}**3*{{\\phi_{peri}}}**2 - 9*k*{{\\alpha}}*{{\\phi_{peri}}}*({{\\alpha}} + 1)*({{\\phi_{peri}}} - 1) + 54*({{\\phi_{peri}}} - 1)**2)**2)/({{\\phi_{peri}}} - 1)**6)*({{\\phi_{peri}}} - 1)**3)/({{\\phi_{peri}}} - 1)**3)**(1/3)*({{\\phi_{peri}}} - 1) + k*{{\\delta}}**2*{{\\phi_{peri}}}*(k*{{\\alpha}}**2*{{\\phi_{peri}}} - 6*({{\\alpha}} + 1)*({{\\phi_{peri}}} - 1)) + ((k**3*{{\\alpha}}**3*{{\\delta}}**3*{{\\phi_{peri}}}**3 - 9*k**2*{{\\alpha}}*{{\\delta}}**3*{{\\phi_{peri}}}**2*({{\\alpha}} + 1)*({{\\phi_{peri}}} - 1) + 54*k*{{\\delta}}**3*{{\\phi_{peri}}}*({{\\phi_{peri}}} - 1)**2 + sqrt(-k**2*{{\\delta}}**6*{{\\phi_{peri}}}**2*(k*{{\\phi_{peri}}}*(k*{{\\alpha}}**2*{{\\phi_{peri}}} - 6*({{\\alpha}} + 1)*({{\\phi_{peri}}} - 1))**3 - (k**2*{{\\alpha}}**3*{{\\phi_{peri}}}**2 - 9*k*{{\\alpha}}*{{\\phi_{peri}}}*({{\\alpha}} + 1)*({{\\phi_{peri}}} - 1) + 54*({{\\phi_{peri}}} - 1)**2)**2)/({{\\phi_{peri}}} - 1)**6)*({{\\phi_{peri}}} - 1)**3)/({{\\phi_{peri}}} - 1)**3)**(2/3)*({{\\phi_{peri}}} - 1)**2)/(3*((k**3*{{\\alpha}}**3*{{\\delta}}**3*{{\\phi_{peri}}}**3 - 9*k**2*{{\\alpha}}*{{\\delta}}**3*{{\\phi_{peri}}}**2*({{\\alpha}} + 1)*({{\\phi_{peri}}} - 1) + 54*k*{{\\delta}}**3*{{\\phi_{peri}}}*({{\\phi_{peri}}} - 1)**2 + sqrt(-k**2*{{\\delta}}**6*{{\\phi_{peri}}}**2*(k*{{\\phi_{peri}}}*(k*{{\\alpha}}**2*{{\\phi_{peri}}} - 6*({{\\alpha}} + 1)*({{\\phi_{peri}}} - 1))**3 - (k**2*{{\\alpha}}**3*{{\\phi_{peri}}}**2 - 9*k*{{\\alpha}}*{{\\phi_{peri}}}*({{\\alpha}} + 1)*({{\\phi_{peri}}} - 1) + 54*({{\\phi_{peri}}} - 1)**2)**2)/({{\\phi_{peri}}} - 1)**6)*({{\\phi_{peri}}} - 1)**3)/({{\\phi_{peri}}} - 1)**3)**(1/3)*({{\\phi_{peri}}} - 1)**2)"
      ]
     },
     "execution_count": 26,
     "metadata": {},
     "output_type": "execute_result"
    }
   ],
   "source": [
    "out[0].simplify().factor()"
   ]
  },
  {
   "cell_type": "code",
   "execution_count": null,
   "metadata": {},
   "outputs": [],
   "source": []
  },
  {
   "cell_type": "code",
   "execution_count": null,
   "metadata": {},
   "outputs": [],
   "source": []
  }
 ],
 "metadata": {
  "kernelspec": {
   "display_name": "Python 3.8.12 ('base')",
   "language": "python",
   "name": "python3"
  },
  "language_info": {
   "codemirror_mode": {
    "name": "ipython",
    "version": 3
   },
   "file_extension": ".py",
   "mimetype": "text/x-python",
   "name": "python",
   "nbconvert_exporter": "python",
   "pygments_lexer": "ipython3",
   "version": "3.8.12"
  },
  "orig_nbformat": 4,
  "vscode": {
   "interpreter": {
    "hash": "3c564ef7d7bc2191162644f217262f5516438042a09a12c52b9a7e4611a084e2"
   }
  }
 },
 "nbformat": 4,
 "nbformat_minor": 2
}
